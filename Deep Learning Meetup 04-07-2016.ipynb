{
 "cells": [
  {
   "cell_type": "markdown",
   "metadata": {},
   "source": [
    "Import relevant libraries "
   ]
  },
  {
   "cell_type": "code",
   "execution_count": 1,
   "metadata": {
    "collapsed": true
   },
   "outputs": [],
   "source": [
    "import pandas as pd\n",
    "import numpy as np\n",
    "import theano\n",
    "import theano.tensor as t\n"
   ]
  },
  {
   "cell_type": "markdown",
   "metadata": {},
   "source": [
    "# Import and Split the Data"
   ]
  },
  {
   "cell_type": "code",
   "execution_count": 2,
   "metadata": {
    "collapsed": false,
    "scrolled": true
   },
   "outputs": [
    {
     "name": "stdout",
     "output_type": "stream",
     "text": [
      "   mpg  cylinders  displacement  horsepower  weight   acceleration  year  \\\n",
      "0   18          8           307         130     3504          12.0    70   \n",
      "1   15          8           350         165     3693          11.5    70   \n",
      "2   18          8           318         150     3436          11.0    70   \n",
      "3   16          8           304         150     3433          12.0    70   \n",
      "4   17          8           302         140     3449          10.5    70   \n",
      "\n",
      "   origin  \n",
      "0       1  \n",
      "1       1  \n",
      "2       1  \n",
      "3       1  \n",
      "4       1  \n",
      "\n",
      "[5 rows x 8 columns]\n"
     ]
    }
   ],
   "source": [
    "dataset = pd.read_csv(\"auto-mpg.csv\", na_values=\"?\", dtype=theano.config.floatX)\n",
    "dataset.dropna(inplace=True)\n",
    "# dataset = dataset.set_index(['name'])\n",
    "print dataset.head()\n"
   ]
  },
  {
   "cell_type": "code",
   "execution_count": 3,
   "metadata": {
    "collapsed": false
   },
   "outputs": [
    {
     "name": "stdout",
     "output_type": "stream",
     "text": [
      "(392, 8)\n",
      "[[  18.     8.   307.  ...,   12.    70.     1. ]\n",
      " [  15.     8.   350.  ...,   11.5   70.     1. ]\n",
      " [  18.     8.   318.  ...,   11.    70.     1. ]\n",
      " ..., \n",
      " [  32.     4.   135.  ...,   11.6   82.     1. ]\n",
      " [  28.     4.   120.  ...,   18.6   82.     1. ]\n",
      " [  31.     4.   119.  ...,   19.4   82.     1. ]]\n"
     ]
    }
   ],
   "source": [
    "print dataset.shape\n",
    "print dataset.values"
   ]
  },
  {
   "cell_type": "code",
   "execution_count": 4,
   "metadata": {
    "collapsed": false
   },
   "outputs": [
    {
     "name": "stdout",
     "output_type": "stream",
     "text": [
      "(250, 8)\n",
      "[ 18.  15.  18.  16.  17.  15.  14.  14.  14.  15.]\n",
      "[ 18.  15.  18.  16.  17.  15.  14.  14.  14.  15.]\n",
      "(250, 7)\n"
     ]
    }
   ],
   "source": [
    "train = dataset.values[0:250, :]\n",
    "print train.shape\n",
    "print train[:10, 0]\n",
    "test = dataset.values[250:, :]\n",
    "\n",
    "train_x = train[:, 1:]\n",
    "train_y = train[:, 0]\n",
    "test_x = test[:, 1:]\n",
    "test_y = test[:, 0]\n",
    "\n",
    "print train_y[:10]\n",
    "print train_x.shape"
   ]
  },
  {
   "cell_type": "markdown",
   "metadata": {},
   "source": [
    "\n",
    "# Set up the theano variables "
   ]
  },
  {
   "cell_type": "code",
   "execution_count": 5,
   "metadata": {
    "collapsed": false
   },
   "outputs": [],
   "source": [
    "x = t.dmatrix(\"X\")\n",
    "y = t.dvector(\"y\")\n",
    "\n",
    "w_value = np.zeros(7, dtype=theano.config.floatX)\n",
    "b_value = np.asarray(0., dtype=theano.config.floatX)\n",
    "\n",
    "\n",
    "w = theano.shared(value=w_value, name=\"weights\")\n",
    "b = theano.shared(value=b_value, name=\"bias\")\n",
    "params = [w, b]"
   ]
  },
  {
   "cell_type": "markdown",
   "metadata": {},
   "source": [
    "## Build our functions "
   ]
  },
  {
   "cell_type": "code",
   "execution_count": 8,
   "metadata": {
    "collapsed": false
   },
   "outputs": [],
   "source": [
    "# Build Hypothesis\n",
    "lin_hypothesis = t.dot(x, w) + b\n",
    "\n",
    "# Define objective function\n",
    "mean_sq_error = t.mean((lin_hypothesis - y)**2)\n",
    "\n",
    "# Get the gradient \n",
    "gw, gb = t.grad(mean_sq_error, wrt=[w, b])\n",
    "\n",
    "# Define the learning rate \n",
    "alpha = 0.001\n",
    "\n",
    "# Define the update \n",
    "updates = (\n",
    "    (w, w - alpha * gw), \n",
    "    (b, b - alpha * gb)\n",
    ")\n"
   ]
  },
  {
   "cell_type": "code",
   "execution_count": 9,
   "metadata": {
    "collapsed": false
   },
   "outputs": [],
   "source": [
    "hyp = theano.function(inputs=[x], outputs=[lin_hypothesis])\n",
    "\n",
    "\n",
    "train_function = theano.function(inputs=[x, y], \n",
    "                                 outputs=[lin_hypothesis, mean_sq_error], \n",
    "                                 updates=updates,\n",
    "                                 name='train')\n",
    "\n",
    "test_function = theano.function(inputs=[x, y],\n",
    "                                outputs=[lin_hypothesis, mean_sq_error],\n",
    "                                name='test')"
   ]
  },
  {
   "cell_type": "code",
   "execution_count": null,
   "metadata": {
    "collapsed": false
   },
   "outputs": [],
   "source": [
    "\n"
   ]
  },
  {
   "cell_type": "markdown",
   "metadata": {},
   "source": [
    "## Train our Model "
   ]
  },
  {
   "cell_type": "code",
   "execution_count": 10,
   "metadata": {
    "collapsed": false
   },
   "outputs": [
    {
     "name": "stdout",
     "output_type": "stream",
     "text": [
      "462.19456\n",
      "1.52402930372e+11\n",
      "7.13297972592e+19\n",
      "3.33847916416e+28\n",
      "1.56252275456e+37\n",
      "[  9.21687612e+22   8.22553658e+22   7.73229543e+22   7.08648578e+22\n",
      "   8.94320709e+22   8.37358408e+22   8.81524657e+22   8.00435141e+22\n",
      "   9.43643821e+22   8.89946410e+22   8.94952287e+22   8.98927379e+22\n",
      "   8.37836987e+22   1.06485558e+23   5.61283744e+22   6.67145637e+22\n",
      "   5.99518652e+22   5.80911100e+22   6.55487194e+22   7.15588681e+22\n",
      "   7.43807384e+22   6.26723470e+22   7.37121324e+22   8.18247412e+22\n",
      "   7.27976916e+22   8.88279800e+22   5.18390648e+22   5.56102233e+22\n",
      "   8.46646531e+22   7.79715084e+22   7.52701812e+22   8.51615130e+22\n",
      "   8.76283300e+22   1.00234213e+23   9.72478463e+22   1.03307708e+23\n",
      "   1.00004295e+23   1.13815208e+23   1.05876599e+23   9.40692254e+22\n",
      "   1.02947294e+23   5.01554285e+22   5.14397329e+22   4.99217943e+22\n",
      "   6.95265924e+22   9.19230633e+22   1.01869060e+23   8.30296603e+22\n",
      "   8.92307230e+22   5.73095452e+22   5.60142778e+22   5.26042062e+22\n",
      "   5.54687663e+22   6.95926313e+22   6.77139845e+22   7.04346224e+22\n",
      "   6.66386773e+22   5.58518256e+22   5.12602766e+22   5.52244407e+22\n",
      "   5.25804268e+22   6.98005182e+22   7.47526457e+22   7.82213896e+22\n",
      "   8.81543989e+22   5.69919479e+22   7.06234009e+22   6.62044922e+22\n",
      "   6.34201355e+22   5.90047965e+22   5.49383257e+22   7.29847303e+22\n",
      "   5.49365867e+22   5.42825537e+22   6.07600613e+22   7.67700837e+22\n",
      "   8.45900890e+22   4.82127940e+22   5.58677621e+22   4.80749336e+22\n",
      "   7.58825257e+22   6.29722914e+22   6.51320284e+22   5.96480194e+22\n",
      "   6.48942806e+22   6.86813276e+22   6.83094136e+22   7.10787297e+22\n",
      "   6.21735089e+22   4.57212549e+22   4.88491078e+22   4.58563609e+22\n",
      "   5.37955668e+22   5.14394334e+22   5.33870982e+22   5.17122719e+22\n",
      "   5.76929026e+22   5.32771876e+22   6.19572508e+22   5.70554547e+22\n",
      "   5.75783788e+22   6.12078097e+22   6.81177514e+22   6.86137485e+22\n",
      "   8.40751182e+22   8.22652580e+22   7.56090740e+22   7.63487972e+22\n",
      "   8.90656635e+22   9.73174402e+22   7.97889638e+22   9.03263866e+22\n",
      "   6.78352557e+22   6.87419641e+22   6.23941583e+22   6.70547801e+22\n",
      "   6.58016920e+22   7.12786225e+22   7.46277897e+22   5.16152164e+22\n",
      "   5.27494408e+22   5.13243713e+22   5.53616159e+22   5.53553033e+22\n",
      "   5.63202129e+22   5.74494023e+22   5.84832156e+22   5.11935949e+22\n",
      "   5.11936729e+22   5.19710028e+22   7.67947939e+22   7.87375847e+22\n",
      "   6.74031629e+22   7.40425642e+22   6.94570027e+22   6.17854410e+22\n",
      "   7.68490092e+22   7.26788705e+22   5.54668555e+22   5.98420995e+22\n",
      "   6.83599320e+22   7.08223277e+22]\n"
     ]
    }
   ],
   "source": [
    "\n",
    "for i in range(5):\n",
    "    y_hat, error = train_function(train_x, train_y)\n",
    "    print error\n",
    "\n"
   ]
  },
  {
   "cell_type": "markdown",
   "metadata": {},
   "source": [
    "## Test the model"
   ]
  },
  {
   "cell_type": "code",
   "execution_count": null,
   "metadata": {
    "collapsed": true
   },
   "outputs": [],
   "source": [
    "y_hat, test_error = test_function(test_x, test_y)\n",
    "print y_hat\n",
    "print test_err"
   ]
  },
  {
   "cell_type": "markdown",
   "metadata": {},
   "source": [
    "# MLP \n",
    "## Set up Theano Variables  "
   ]
  },
  {
   "cell_type": "code",
   "execution_count": 48,
   "metadata": {
    "collapsed": false
   },
   "outputs": [],
   "source": [
    "x_mlp = t.dmatrix(\"X_mlp\")\n",
    "y_mlp = t.dvector(\"y_mlp\")\n",
    "\n",
    "fan_in = 7\n",
    "n_nodes = 2\n",
    "\n",
    "bound = np.sqrt(6. / (fan_in + n_nodes))\n",
    "\n",
    "w1_value = np.asarray(\n",
    "            np.random.uniform(\n",
    "                low=-4*bound,\n",
    "                high=4*bound,\n",
    "                size=(fan_in, n_nodes)),\n",
    "            dtype=theano.config.floatX\n",
    "        )\n",
    "b1_value = np.zeros(shape=n_nodes, dtype=theano.config.floatX)\n",
    "\n",
    "w2_value = np.zeros(n_nodes, dtype=theano.config.floatX)\n",
    "b2_value = np.asarray(0., dtype=theano.config.floatX)\n",
    "\n",
    "\n",
    "w1 = theano.shared(value=w1_value, name=\"weights1\")\n",
    "b1 = theano.shared(value=b1_value, name=\"bias1\")\n",
    "\n",
    "w2 = theano.shared(value=w2_value, name=\"weights2\")\n",
    "b2 = theano.shared(value=b2_value, name=\"bias2\")\n",
    "\n",
    "params = [w1, b1, w2, b2]"
   ]
  },
  {
   "cell_type": "code",
   "execution_count": 49,
   "metadata": {
    "collapsed": false
   },
   "outputs": [],
   "source": [
    "# lin activation \n",
    "z = t.dot(x_mlp, w1) + b1\n",
    "# non linear logistic activation - sigmoid i.e. activations/probabilites \n",
    "a = 1 / (1 + t.exp(-z)) \n",
    "# get linear output \n",
    "y_hat_hypothesis = t.dot(a, w2) + b2 \n",
    "\n",
    "# Define objective function\n",
    "mean_sq_error = t.mean((y_hat_hypothesis - y_mlp)**2)\n",
    "\n",
    "# Get the gradient \n",
    "g_params = t.grad(mean_sq_error, wrt=params, add_names=True)\n",
    "\n",
    "# Define the learning rate \n",
    "alpha = 0.01\n",
    "\n",
    "# Define the update \n",
    "updates = []\n",
    "for param, g_param in zip(params, g_params):\n",
    "    updates.append((param, param - g_param * alpha))"
   ]
  },
  {
   "cell_type": "code",
   "execution_count": 50,
   "metadata": {
    "collapsed": false
   },
   "outputs": [],
   "source": [
    "train_function = theano.function(inputs=[x_mlp, y_mlp],\n",
    "                                 outputs=[y_hat_hypothesis, mean_sq_error], \n",
    "                                 updates=updates)\n",
    "\n",
    "test_function = theano.function(inputs=[x_mlp, y_mlp], \n",
    "                                outputs=[y_hat_hypothesis, mean_sq_error])"
   ]
  },
  {
   "cell_type": "markdown",
   "metadata": {},
   "source": [
    "## Train the MLP"
   ]
  },
  {
   "cell_type": "code",
   "execution_count": 57,
   "metadata": {
    "collapsed": false
   },
   "outputs": [
    {
     "name": "stdout",
     "output_type": "stream",
     "text": [
      "41.780544\n",
      "41.780544\n",
      "41.780544\n",
      "41.780544\n",
      "41.780544\n",
      "41.780544\n",
      "41.780544\n",
      "41.780544\n",
      "41.780544\n",
      "41.780544\n"
     ]
    }
   ],
   "source": [
    "for i in range(2000):\n",
    "    y_hat, error = train_function(train_x, train_y)\n",
    "    if i%200 == 0:\n",
    "        print error"
   ]
  },
  {
   "cell_type": "markdown",
   "metadata": {},
   "source": [
    "## Test the MLP "
   ]
  },
  {
   "cell_type": "code",
   "execution_count": 58,
   "metadata": {
    "collapsed": true
   },
   "outputs": [],
   "source": [
    "y_hat, error = test_function(test_x, test_y)"
   ]
  }
 ],
 "metadata": {
  "kernelspec": {
   "display_name": "Python 2",
   "language": "python",
   "name": "python2"
  },
  "language_info": {
   "codemirror_mode": {
    "name": "ipython",
    "version": 2
   },
   "file_extension": ".py",
   "mimetype": "text/x-python",
   "name": "python",
   "nbconvert_exporter": "python",
   "pygments_lexer": "ipython2",
   "version": "2.7.6"
  }
 },
 "nbformat": 4,
 "nbformat_minor": 0
}
