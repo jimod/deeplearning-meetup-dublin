{
 "cells": [
  {
   "cell_type": "markdown",
   "metadata": {},
   "source": [
    "## Import relevant libraries "
   ]
  },
  {
   "cell_type": "code",
   "execution_count": null,
   "metadata": {
    "collapsed": true
   },
   "outputs": [],
   "source": [
    "import pandas as pd\n",
    "import numpy as np\n",
    "import theano\n",
    "import theano.tensor as t\n"
   ]
  },
  {
   "cell_type": "markdown",
   "metadata": {},
   "source": [
    "## Import and Split the Data"
   ]
  },
  {
   "cell_type": "code",
   "execution_count": null,
   "metadata": {
    "collapsed": false,
    "scrolled": true
   },
   "outputs": [],
   "source": [
    "dataset = pd.read_csv(\"auto-mpg.csv\", na_values=\"?\", dtype=theano.config.floatX)\n",
    "dataset.dropna(inplace=True)\n",
    "# dataset = dataset.set_index(['name'])\n",
    "print dataset.head()\n"
   ]
  },
  {
   "cell_type": "code",
   "execution_count": null,
   "metadata": {
    "collapsed": false
   },
   "outputs": [],
   "source": [
    "print dataset.shape\n",
    "print dataset.values"
   ]
  },
  {
   "cell_type": "code",
   "execution_count": null,
   "metadata": {
    "collapsed": false
   },
   "outputs": [],
   "source": [
    "train = dataset.values[0:300, :]\n",
    "test = dataset.values[300:, :]\n",
    "\n",
    "train_x = train[:, 1:]\n",
    "train_y = train[:, 0]\n",
    "\n",
    "test_x = test[:, 1:]\n",
    "test_y = test[:, 0]\n",
    "\n",
    "print train_y[:10]\n",
    "print train_x.shape"
   ]
  },
  {
   "cell_type": "markdown",
   "metadata": {},
   "source": [
    "# Linear Regression "
   ]
  },
  {
   "cell_type": "code",
   "execution_count": null,
   "metadata": {
    "collapsed": true
   },
   "outputs": [],
   "source": [
    "## Set up the theano variables"
   ]
  },
  {
   "cell_type": "code",
   "execution_count": null,
   "metadata": {
    "collapsed": false
   },
   "outputs": [],
   "source": [
    "x = t.dmatrix(\"X\")\n",
    "y = t.dvector(\"y\")\n",
    "\n",
    "w_value = np.zeros(7, dtype=theano.config.floatX)\n",
    "b_value = np.asarray(0., dtype=theano.config.floatX)\n",
    "\n",
    "\n",
    "w = theano.shared(value=w_value, name=\"weights\")\n",
    "b = theano.shared(value=b_value, name=\"bias\")\n",
    "params = [w, b]"
   ]
  },
  {
   "cell_type": "markdown",
   "metadata": {},
   "source": [
    "## Build our functions "
   ]
  },
  {
   "cell_type": "code",
   "execution_count": null,
   "metadata": {
    "collapsed": false
   },
   "outputs": [],
   "source": [
    "# Build Hypothesis\n",
    "lin_hypothesis = t.dot(x, w) + b\n",
    "\n",
    "# Define objective function\n",
    "mean_sq_error = t.mean((lin_hypothesis - y)**2)\n",
    "\n",
    "# Get the gradient \n",
    "gw, gb = t.grad(mean_sq_error, wrt=[w, b])\n",
    "\n",
    "# Define the learning rate \n",
    "alpha = 0.001\n",
    "\n",
    "# Define the update \n",
    "updates = (\n",
    "    (w, w - alpha * gw), \n",
    "    (b, b - alpha * gb)\n",
    ")\n"
   ]
  },
  {
   "cell_type": "code",
   "execution_count": null,
   "metadata": {
    "collapsed": false
   },
   "outputs": [],
   "source": [
    "hyp = theano.function(inputs=[x], outputs=[lin_hypothesis])\n",
    "\n",
    "\n",
    "train_function = theano.function(inputs=[x, y], \n",
    "                                 outputs=[lin_hypothesis, mean_sq_error], \n",
    "                                 updates=updates,\n",
    "                                 name='train')\n",
    "\n",
    "test_function = theano.function(inputs=[x, y],\n",
    "                                outputs=[lin_hypothesis, mean_sq_error],\n",
    "                                name='test')"
   ]
  },
  {
   "cell_type": "code",
   "execution_count": null,
   "metadata": {
    "collapsed": false
   },
   "outputs": [],
   "source": [
    "\n"
   ]
  },
  {
   "cell_type": "markdown",
   "metadata": {},
   "source": [
    "## Train our Model "
   ]
  },
  {
   "cell_type": "code",
   "execution_count": null,
   "metadata": {
    "collapsed": false
   },
   "outputs": [],
   "source": [
    "\n",
    "for i in range(5):\n",
    "    y_hat, error = train_function(train_x, train_y)\n",
    "    print error\n",
    "\n"
   ]
  },
  {
   "cell_type": "markdown",
   "metadata": {},
   "source": [
    "## Test the model"
   ]
  },
  {
   "cell_type": "code",
   "execution_count": null,
   "metadata": {
    "collapsed": true
   },
   "outputs": [],
   "source": [
    "y_hat, test_error = test_function(test_x, test_y)\n",
    "print y_hat\n",
    "print test_err"
   ]
  },
  {
   "cell_type": "markdown",
   "metadata": {},
   "source": [
    "# Multi Layer Perceptron  \n",
    "## Set up Theano Variables  "
   ]
  },
  {
   "cell_type": "code",
   "execution_count": null,
   "metadata": {
    "collapsed": false
   },
   "outputs": [],
   "source": [
    "x_mlp = t.dmatrix(\"X_mlp\")\n",
    "y_mlp = t.dvector(\"y_mlp\")\n",
    "\n",
    "fan_in = 7\n",
    "n_nodes = 2\n",
    "\n",
    "bound = np.sqrt(6. / (fan_in + n_nodes))\n",
    "\n",
    "w1_value = np.asarray(\n",
    "            np.random.uniform(\n",
    "                low=-4*bound,\n",
    "                high=4*bound,\n",
    "                size=(fan_in, n_nodes)),\n",
    "            dtype=theano.config.floatX\n",
    "        )\n",
    "b1_value = np.zeros(shape=n_nodes, dtype=theano.config.floatX)\n",
    "\n",
    "w2_value = np.zeros(n_nodes, dtype=theano.config.floatX)\n",
    "b2_value = np.asarray(0., dtype=theano.config.floatX)\n",
    "\n",
    "\n",
    "w1 = theano.shared(value=w1_value, name=\"weights1\")\n",
    "b1 = theano.shared(value=b1_value, name=\"bias1\")\n",
    "\n",
    "w2 = theano.shared(value=w2_value, name=\"weights2\")\n",
    "b2 = theano.shared(value=b2_value, name=\"bias2\")\n",
    "\n",
    "params = [w1, b1, w2, b2]"
   ]
  },
  {
   "cell_type": "markdown",
   "metadata": {},
   "source": [
    "## Define our functions"
   ]
  },
  {
   "cell_type": "code",
   "execution_count": null,
   "metadata": {
    "collapsed": false
   },
   "outputs": [],
   "source": [
    "# lin activation \n",
    "z = t.dot(x_mlp, w1) + b1\n",
    "# non linear logistic activation - sigmoid i.e. activations/probabilites \n",
    "a = 1 / (1 + t.exp(-z)) \n",
    "# get linear output \n",
    "y_hat_hypothesis = t.dot(a, w2) + b2 \n",
    "\n",
    "# Define objective function\n",
    "mean_sq_error = t.mean((y_hat_hypothesis - y_mlp)**2)\n",
    "\n",
    "# Get the gradient \n",
    "g_params = t.grad(mean_sq_error, wrt=params, add_names=True)\n",
    "\n",
    "# Define the learning rate \n",
    "alpha = 0.01\n",
    "\n",
    "# Define the update \n",
    "updates = []\n",
    "for param, g_param in zip(params, g_params):\n",
    "    updates.append((param, param - g_param * alpha))"
   ]
  },
  {
   "cell_type": "markdown",
   "metadata": {},
   "source": [
    "## Compile the Functions"
   ]
  },
  {
   "cell_type": "code",
   "execution_count": null,
   "metadata": {
    "collapsed": false
   },
   "outputs": [],
   "source": [
    "train_function = theano.function(inputs=[x_mlp, y_mlp],\n",
    "                                 outputs=[y_hat_hypothesis, mean_sq_error], \n",
    "                                 updates=updates)\n",
    "\n",
    "test_function = theano.function(inputs=[x_mlp, y_mlp], \n",
    "                                outputs=[y_hat_hypothesis, mean_sq_error])"
   ]
  },
  {
   "cell_type": "markdown",
   "metadata": {},
   "source": [
    "## Train the MLP"
   ]
  },
  {
   "cell_type": "code",
   "execution_count": null,
   "metadata": {
    "collapsed": false
   },
   "outputs": [],
   "source": [
    "for i in range(2000):\n",
    "    y_hat, error = train_function(train_x, train_y)\n",
    "    if i%200 == 0:\n",
    "        print error"
   ]
  },
  {
   "cell_type": "markdown",
   "metadata": {},
   "source": [
    "## Test the MLP "
   ]
  },
  {
   "cell_type": "code",
   "execution_count": null,
   "metadata": {
    "collapsed": true
   },
   "outputs": [],
   "source": [
    "y_hat, error = test_function(test_x, test_y)"
   ]
  }
 ],
 "metadata": {
  "kernelspec": {
   "display_name": "Python 2",
   "language": "python",
   "name": "python2"
  },
  "language_info": {
   "codemirror_mode": {
    "name": "ipython",
    "version": 2
   },
   "file_extension": ".py",
   "mimetype": "text/x-python",
   "name": "python",
   "nbconvert_exporter": "python",
   "pygments_lexer": "ipython2",
   "version": "2.7.6"
  }
 },
 "nbformat": 4,
 "nbformat_minor": 0
}
