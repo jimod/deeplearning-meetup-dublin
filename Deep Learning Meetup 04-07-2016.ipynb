{
 "cells": [
  {
   "cell_type": "markdown",
   "metadata": {},
   "source": [
    "Import relevant libraries "
   ]
  },
  {
   "cell_type": "code",
   "execution_count": 5,
   "metadata": {
    "collapsed": true
   },
   "outputs": [],
   "source": [
    "import pandas as pd\n",
    "import numpy as np\n",
    "import theano\n",
    "import theano.tensor as t\n"
   ]
  },
  {
   "cell_type": "markdown",
   "metadata": {},
   "source": [
    "# Import and Split the Data"
   ]
  },
  {
   "cell_type": "code",
   "execution_count": null,
   "metadata": {
    "collapsed": false,
    "scrolled": true
   },
   "outputs": [],
   "source": [
    "dataset = pd.read_csv(\"auto-mpg.csv\", na_values=\"?\")\n",
    "dataset.dropna(inplace=True)\n",
    "dataset = dataset.set_index(['name'])\n",
    "print dataset.head()\n"
   ]
  },
  {
   "cell_type": "code",
   "execution_count": null,
   "metadata": {
    "collapsed": false
   },
   "outputs": [],
   "source": [
    "print dataset.shape"
   ]
  },
  {
   "cell_type": "code",
   "execution_count": null,
   "metadata": {
    "collapsed": false
   },
   "outputs": [],
   "source": [
    "train = dataset.values[0:250, :]\n",
    "print train.shape\n",
    "print train[:10, 0]\n",
    "test = dataset.values[250:, :]"
   ]
  },
  {
   "cell_type": "code",
   "execution_count": null,
   "metadata": {
    "collapsed": false
   },
   "outputs": [],
   "source": [
    "train_x = train[:, 1:]\n",
    "train_y = train[:, 0]\n",
    "test_x = test[:, 1:]\n",
    "test_y = test[:, 0]\n",
    "print train_y[:10]"
   ]
  },
  {
   "cell_type": "markdown",
   "metadata": {},
   "source": [
    "\n",
    "# Set up the theano variables "
   ]
  },
  {
   "cell_type": "code",
   "execution_count": 4,
   "metadata": {
    "collapsed": false
   },
   "outputs": [
    {
     "ename": "NameError",
     "evalue": "name 't' is not defined",
     "output_type": "error",
     "traceback": [
      "\u001b[1;31m---------------------------------------------------------------------------\u001b[0m",
      "\u001b[1;31mNameError\u001b[0m                                 Traceback (most recent call last)",
      "\u001b[1;32m<ipython-input-4-c7afa1b48c54>\u001b[0m in \u001b[0;36m<module>\u001b[1;34m()\u001b[0m\n\u001b[1;32m----> 1\u001b[1;33m \u001b[0mx\u001b[0m \u001b[1;33m=\u001b[0m \u001b[0mt\u001b[0m\u001b[1;33m.\u001b[0m\u001b[0mmatrix\u001b[0m\u001b[1;33m(\u001b[0m\u001b[1;34m\"X\"\u001b[0m\u001b[1;33m)\u001b[0m\u001b[1;33m\u001b[0m\u001b[0m\n\u001b[0m\u001b[0;32m      2\u001b[0m \u001b[0my\u001b[0m \u001b[1;33m=\u001b[0m \u001b[0mt\u001b[0m\u001b[1;33m.\u001b[0m\u001b[0mvector\u001b[0m\u001b[1;33m(\u001b[0m\u001b[1;34m\"y\"\u001b[0m\u001b[1;33m)\u001b[0m\u001b[1;33m\u001b[0m\u001b[0m\n\u001b[0;32m      3\u001b[0m \u001b[1;33m\u001b[0m\u001b[0m\n\u001b[0;32m      4\u001b[0m \u001b[0mw_value\u001b[0m \u001b[1;33m=\u001b[0m \u001b[0mnumpy\u001b[0m\u001b[1;33m.\u001b[0m\u001b[0mzeros\u001b[0m\u001b[1;33m(\u001b[0m\u001b[1;36m7\u001b[0m\u001b[1;33m,\u001b[0m \u001b[0mdtype\u001b[0m\u001b[1;33m=\u001b[0m\u001b[0mtheano\u001b[0m\u001b[1;33m.\u001b[0m\u001b[0mconfig\u001b[0m\u001b[1;33m.\u001b[0m\u001b[0mfloatX\u001b[0m\u001b[1;33m)\u001b[0m\u001b[1;33m\u001b[0m\u001b[0m\n\u001b[0;32m      5\u001b[0m \u001b[0mb_value\u001b[0m \u001b[1;33m=\u001b[0m \u001b[0mnumpy\u001b[0m\u001b[1;33m.\u001b[0m\u001b[0masarray\u001b[0m\u001b[1;33m(\u001b[0m\u001b[1;36m0.\u001b[0m\u001b[1;33m,\u001b[0m \u001b[0mdtype\u001b[0m\u001b[1;33m=\u001b[0m\u001b[0mtheano\u001b[0m\u001b[1;33m.\u001b[0m\u001b[0mconfig\u001b[0m\u001b[1;33m.\u001b[0m\u001b[0mfloatX\u001b[0m\u001b[1;33m)\u001b[0m\u001b[1;33m\u001b[0m\u001b[0m\n",
      "\u001b[1;31mNameError\u001b[0m: name 't' is not defined"
     ]
    }
   ],
   "source": [
    "x = t.matrix(\"X\")\n",
    "y = t.vector(\"y\")\n",
    "\n",
    "w_value = numpy.zeros(7, dtype=theano.config.floatX)\n",
    "b_value = numpy.asarray(0., dtype=theano.config.floatX)\n",
    "\n",
    "\n",
    "w = theano.shared(value=w_value, name=\"weights\")\n",
    "b = theano.shared(value=b_value, name=\"bias\")\n",
    "params = [w, b]"
   ]
  },
  {
   "cell_type": "markdown",
   "metadata": {},
   "source": [
    "## Build our functions "
   ]
  },
  {
   "cell_type": "code",
   "execution_count": null,
   "metadata": {
    "collapsed": false
   },
   "outputs": [],
   "source": [
    "# Build Hypothesis\n",
    "lin_hypothesis = t.dot(w.T, x) + b\n",
    "\n",
    "# Define objective function\n",
    "mean_sq_error = t.mean((lin_hypothesis - y)**2)\n",
    "\n",
    "# Get the gradient \n",
    "gw, gb = t.grad(mean_sq_error, wrt=[w, b])\n",
    "\n",
    "# Define the learning rate \n",
    "alpha = 0.01\n",
    "\n",
    "# Define the update \n",
    "updates = (\n",
    "    (w, w - alpha * gw), \n",
    "    (b, b - alpha * gb)\n",
    ")\n",
    "\n",
    "train_function = theano.function(inputs=[x, y], outputs=[lin_hypothesis, mean_sq_error], updates=updates)\n",
    "\n",
    "test_function = theano.function(inputs=[x, y], outputs=[lin_hypothesis])"
   ]
  },
  {
   "cell_type": "markdown",
   "metadata": {},
   "source": [
    "## Train our Model "
   ]
  },
  {
   "cell_type": "code",
   "execution_count": 1,
   "metadata": {
    "collapsed": false
   },
   "outputs": [
    {
     "ename": "NameError",
     "evalue": "name 'train_function' is not defined",
     "output_type": "error",
     "traceback": [
      "\u001b[1;31m---------------------------------------------------------------------------\u001b[0m",
      "\u001b[1;31mNameError\u001b[0m                                 Traceback (most recent call last)",
      "\u001b[1;32m<ipython-input-1-9e15746fc6be>\u001b[0m in \u001b[0;36m<module>\u001b[1;34m()\u001b[0m\n\u001b[0;32m      1\u001b[0m \u001b[1;32mfor\u001b[0m \u001b[0mi\u001b[0m \u001b[1;32min\u001b[0m \u001b[0mrange\u001b[0m\u001b[1;33m(\u001b[0m\u001b[1;36m50\u001b[0m\u001b[1;33m)\u001b[0m\u001b[1;33m:\u001b[0m\u001b[1;33m\u001b[0m\u001b[0m\n\u001b[1;32m----> 2\u001b[1;33m     \u001b[0mh\u001b[0m\u001b[1;33m,\u001b[0m \u001b[0merror\u001b[0m \u001b[1;33m=\u001b[0m \u001b[0mtrain_function\u001b[0m\u001b[1;33m(\u001b[0m\u001b[1;33m[\u001b[0m\u001b[0mtrain_x\u001b[0m\u001b[1;33m,\u001b[0m \u001b[0mtrain_y\u001b[0m\u001b[1;33m]\u001b[0m\u001b[1;33m)\u001b[0m\u001b[1;33m\u001b[0m\u001b[0m\n\u001b[0m\u001b[0;32m      3\u001b[0m     \u001b[1;32mprint\u001b[0m \u001b[0merror\u001b[0m\u001b[1;33m\u001b[0m\u001b[0m\n\u001b[0;32m      4\u001b[0m \u001b[1;33m\u001b[0m\u001b[0m\n\u001b[0;32m      5\u001b[0m \u001b[0mtest_error\u001b[0m \u001b[1;33m=\u001b[0m \u001b[0mtest_function\u001b[0m\u001b[1;33m(\u001b[0m\u001b[1;33m[\u001b[0m\u001b[0mtest_x\u001b[0m\u001b[1;33m,\u001b[0m \u001b[0mtest_y\u001b[0m\u001b[1;33m]\u001b[0m\u001b[1;33m)\u001b[0m\u001b[1;33m\u001b[0m\u001b[0m\n",
      "\u001b[1;31mNameError\u001b[0m: name 'train_function' is not defined"
     ]
    }
   ],
   "source": [
    "for i in range(50):\n",
    "    h, error = train_function([train_x, train_y])\n",
    "    print error\n",
    "\n",
    "test_error = test_function([test_x, test_y])"
   ]
  },
  {
   "cell_type": "markdown",
   "metadata": {},
   "source": [
    "# MLP \n",
    "## Set up Theano Variables  "
   ]
  },
  {
   "cell_type": "code",
   "execution_count": null,
   "metadata": {
    "collapsed": true
   },
   "outputs": [],
   "source": [
    "x = t.matrix(\"X\")\n",
    "y = t.vector(\"y\")\n",
    "\n",
    "fan_in = 7\n",
    "n_nodes = 4\n",
    "\n",
    "bound = np.sqrt(6. / (fan_in + num_nodes))\n",
    "\n",
    "w1_value = np.asarray(\n",
    "            np.random.uniform(\n",
    "                low=-4*bound,\n",
    "                high=4*bound,\n",
    "                size=(fan_in, num_nodes)\n",
    "            ),\n",
    "            dtype=theano.config.floatX\n",
    "        )\n",
    "b1_value = np.zeros(shape=num_nodes, dtype=theano.config.floatX)\n",
    "\n",
    "w2_value = numpy.zeros(4, dtype=theano.config.floatX)\n",
    "b2_value = numpy.asarray(0., dtype=theano.config.floatX)\n",
    "\n",
    "\n",
    "w1 = theano.shared(value=w1_value, name=\"weights1\")\n",
    "b1 = theano.shared(value=b1_value, name=\"bias1\")\n",
    "\n",
    "w2 = theano.shared(value=w1_value, name=\"weights1\")\n",
    "b2 = theano.shared(value=b1_value, name=\"bias1\")\n",
    "\n",
    "params = [w1, b1, w2, b2]"
   ]
  },
  {
   "cell_type": "code",
   "execution_count": 3,
   "metadata": {
    "collapsed": false
   },
   "outputs": [
    {
     "ename": "SyntaxError",
     "evalue": "invalid syntax (<ipython-input-3-7f934c898e43>, line 12)",
     "output_type": "error",
     "traceback": [
      "\u001b[1;36m  File \u001b[1;32m\"<ipython-input-3-7f934c898e43>\"\u001b[1;36m, line \u001b[1;32m12\u001b[0m\n\u001b[1;33m    gw1, gb1 = t.grad(mean_sq_error, wrt=[w1, b1])\u001b[0m\n\u001b[1;37m      ^\u001b[0m\n\u001b[1;31mSyntaxError\u001b[0m\u001b[1;31m:\u001b[0m invalid syntax\n"
     ]
    }
   ],
   "source": [
    "# lin activation \n",
    "z = t.dot(w1.T, x) + b\n",
    "# non linear logistic activation - sigmoid i.e. activations/probabilites \n",
    "a = 1 / (1 + t.exp(-z)) \n",
    "# get linear output \n",
    "y_hat_hypothesis = t.dot(w.T, a) + b \n",
    "\n",
    "# Define objective function\n",
    "mean_sq_error = t.mean(t.sq((y_hat_hypothesis - y))\n",
    "\n",
    "# Get the gradient \n",
    "gw1, gb1, gw2, gb2 = t.grad(mean_sq_error, wrt=[w1, b1, w2, b2])\n",
    "\n",
    "# Define the learning rate \n",
    "alpha = 0.01\n",
    "\n",
    "# Define the update \n",
    "updates = (\n",
    "    (w1, w1 - alpha * gw1), \n",
    "    (b1, b1 - alpha * gb1),\n",
    "    (w2, w2 - alpha * gw2), \n",
    "    (b2, b2 - alpha * gb2)\n",
    ")\n",
    "\n",
    "train_function = theano.function(inputs=[x, y], outputs=[y_hat_hypothesis, mean_sq_error], updates=updates)\n",
    "\n",
    "test_function = theano.function(inputs=[x, y], outputs=[lin_hypothesis])\n"
   ]
  }
 ],
 "metadata": {
  "kernelspec": {
   "display_name": "Python 2",
   "language": "python",
   "name": "python2"
  },
  "language_info": {
   "codemirror_mode": {
    "name": "ipython",
    "version": 2
   },
   "file_extension": ".py",
   "mimetype": "text/x-python",
   "name": "python",
   "nbconvert_exporter": "python",
   "pygments_lexer": "ipython2",
   "version": "2.7.6"
  }
 },
 "nbformat": 4,
 "nbformat_minor": 0
}
